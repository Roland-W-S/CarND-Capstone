{
 "cells": [
  {
   "cell_type": "code",
   "execution_count": 79,
   "metadata": {},
   "outputs": [],
   "source": [
    "import yaml\n",
    "import glob"
   ]
  },
  {
   "cell_type": "code",
   "execution_count": 89,
   "metadata": {},
   "outputs": [
    {
     "data": {
      "text/plain": [
       "('data/dataset-sdcnd-capstone/data/sim_training_data/sim_data_capture/left1112.jpg',\n",
       " 2)"
      ]
     },
     "execution_count": 89,
     "metadata": {},
     "output_type": "execute_result"
    }
   ],
   "source": [
    "with open(\"data/dataset-sdcnd-capstone/data/sim_training_data/sim_data_annotations.yaml\",\"r\") as yml:\n",
    "    sdcnd_sim_list=yaml.load(yml)\n",
    "\n",
    "    \n",
    "sdcnd_sim_cls=[]\n",
    "sdcnd_sim_fn=[]\n",
    "\n",
    "for tmp in sdcnd_sim_list:\n",
    "    if len(tmp['annotations'])==0:\n",
    "        continue\n",
    "    cls_str=tmp['annotations'][0]['class']\n",
    "    fn=tmp['filename']\n",
    "    #print(tmp['annotations'][0]['class'])\n",
    "    #print(tmp['filename'])]\n",
    "    cls=2\n",
    "    if cls_str==\"Red\":\n",
    "        cls=0\n",
    "    elif cls_str==\"Yellow\":\n",
    "        cls=1\n",
    "    elif cls_str==\"Green\":\n",
    "        cls=2\n",
    "    sdcnd_sim_cls.append(cls)\n",
    "    fn=\"data/dataset-sdcnd-capstone/data/sim_training_data/\"+fn\n",
    "    sdcnd_sim_fn.append(fn)\n",
    "fn,cls"
   ]
  },
  {
   "cell_type": "code",
   "execution_count": 88,
   "metadata": {},
   "outputs": [
    {
     "data": {
      "text/plain": [
       "('data/dataset-sdcnd-capstone/data/real_training_data/yellow/left0394.jpg', 1)"
      ]
     },
     "execution_count": 88,
     "metadata": {},
     "output_type": "execute_result"
    }
   ],
   "source": [
    "with open(\"data/dataset-sdcnd-capstone/data/real_training_data/real_data_annotations.yaml\",\"r\") as yml:\n",
    "    sdcnd_real_list=yaml.load(yml)\n",
    "sdcnd_real_cls=[]\n",
    "sdcnd_real_fn=[]\n",
    "\n",
    "for tmp in sdcnd_real_list:\n",
    "    if len(tmp['annotations'])==0:\n",
    "        continue\n",
    "    cls_str=tmp['annotations'][0]['class']\n",
    "    fn=tmp['filename']\n",
    "    #print(tmp['annotations'][0]['class'])\n",
    "    #print(tmp['filename'])\n",
    "    cls=3\n",
    "    if cls_str==\"Red\":\n",
    "        cls=0\n",
    "    elif cls_str==\"Yellow\":\n",
    "        cls=1\n",
    "    elif cls_str==\"Green\":\n",
    "        cls=2\n",
    "    fn=\"data/dataset-sdcnd-capstone/data/real_training_data/\"+fn\n",
    "    sdcnd_real_cls.append(cls)\n",
    "    sdcnd_real_fn.append(fn)\n",
    "        \n",
    "fn,cls"
   ]
  },
  {
   "cell_type": "code",
   "execution_count": 18,
   "metadata": {},
   "outputs": [],
   "source": []
  },
  {
   "cell_type": "code",
   "execution_count": 87,
   "metadata": {},
   "outputs": [
    {
     "data": {
      "text/plain": [
       "('data/alex-lechner-udacity-traffic-light-dataset/simulator_dataset_rgb/Green/0.0_285.png',\n",
       " 2)"
      ]
     },
     "execution_count": 87,
     "metadata": {},
     "output_type": "execute_result"
    }
   ],
   "source": [
    "alex_sim_cls=[]\n",
    "alex_sim_fn=[]\n",
    "\n",
    "green_fn=glob.glob(\"data/alex-lechner-udacity-traffic-light-dataset/simulator_dataset_rgb/Green/*.png\")\n",
    "alex_sim_fn.extend(green_fn)\n",
    "alex_sim_cls.extend([2]*len(green_fn))\n",
    "\n",
    "red_fn=glob.glob(\"data/alex-lechner-udacity-traffic-light-dataset/simulator_dataset_rgb/Red/*.png\")\n",
    "alex_sim_fn.extend(red_fn)\n",
    "alex_sim_cls.extend([0]*len(red_fn))\n",
    "\n",
    "yellow_fn=glob.glob(\"data/alex-lechner-udacity-traffic-light-dataset/simulator_dataset_rgb/Yellow/*.png\")\n",
    "alex_sim_fn.extend(yellow_fn)\n",
    "alex_sim_cls.extend([2]*len(yellow_fn))\n",
    "\n",
    "alex_sim_fn=[x.replace(\"\\\\\",\"/\") for x in alex_sim_fn]\n",
    "alex_sim_fn[0],alex_sim_cls[0]"
   ]
  },
  {
   "cell_type": "code",
   "execution_count": 32,
   "metadata": {},
   "outputs": [],
   "source": [
    "from xml.dom import minidom"
   ]
  },
  {
   "cell_type": "code",
   "execution_count": 86,
   "metadata": {},
   "outputs": [
    {
     "data": {
      "text/plain": [
       "('data/udacity_testarea_rgb/left1126.jpg', 2)"
      ]
     },
     "execution_count": 86,
     "metadata": {},
     "output_type": "execute_result"
    }
   ],
   "source": [
    "files=glob.glob(\"data/alex-lechner-udacity-traffic-light-dataset/udacity_testarea_rgb/labels/*.xml\")\n",
    "alex_real_cls=[]\n",
    "alex_real_fn=[]\n",
    "for fn in files:\n",
    "    f=open(fn,\"r\")\n",
    "    text=f.read()\n",
    "    f.close()\n",
    "    #print(text)\n",
    "    doc = minidom.parseString(text)\n",
    "    #print(doc.toxml())\n",
    "    fn=doc.getElementsByTagName(\"path\")[0].firstChild.data\n",
    "    cls_str=doc.getElementsByTagName(\"object\")[0].getElementsByTagName(\"name\")[0].firstChild.data\n",
    "    cls=3\n",
    "    if cls_str==\"Red\":\n",
    "        cls=0\n",
    "    elif cls_str==\"Yellow\":\n",
    "        cls=1\n",
    "    elif cls_str==\"Green\":\n",
    "        cls=2\n",
    "    alex_real_cls.append(cls)\n",
    "    fn=fn.replace(\"E:\\\\projects\\\\python\\\\Traffic-Light-Classification\\\\\",\"\").replace(\"\\\\\",\"/\")\n",
    "    alex_real_fn.append(fn)\n",
    "fn,cls"
   ]
  },
  {
   "cell_type": "code",
   "execution_count": 90,
   "metadata": {},
   "outputs": [],
   "source": [
    "import pandas as pd"
   ]
  },
  {
   "cell_type": "code",
   "execution_count": 98,
   "metadata": {},
   "outputs": [
    {
     "data": {
      "text/plain": [
       "('data/training_data/img0.jpeg', 0)"
      ]
     },
     "execution_count": 98,
     "metadata": {},
     "output_type": "execute_result"
    }
   ],
   "source": [
    "amr_sim_list=pd.read_csv(\"data/data.csv\",header=None)\n",
    "amr_sim_cls=amr_sim_list[1]\n",
    "amr_sim_fn=[\"data/\"+x for x in amr_sim_list[0]]\n",
    "amr_sim_fn[0],amr_sim_cls[0]"
   ]
  },
  {
   "cell_type": "code",
   "execution_count": 107,
   "metadata": {},
   "outputs": [],
   "source": [
    "all_sim_cls=[]\n",
    "all_sim_fn=[]\n",
    "\n",
    "all_sim_cls.extend(sdcnd_sim_cls)\n",
    "all_sim_fn.extend(sdcnd_sim_fn)\n",
    "\n",
    "all_sim_cls.extend(alex_sim_cls)\n",
    "all_sim_fn.extend(alex_sim_fn)\n",
    "\n",
    "all_sim_cls.extend(amr_sim_cls)\n",
    "all_sim_fn.extend(amr_sim_fn)\n",
    "\n",
    "all_sim=pd.DataFrame({0:all_sim_fn,1:all_sim_cls})\n",
    "all_sim.to_csv(\"data_sim.csv\",index=False,header=None)\n",
    "\n",
    "all_real_cls=[]\n",
    "all_real_fn=[]\n",
    "\n",
    "all_real_cls.extend(sdcnd_real_cls)\n",
    "all_real_fn.extend(sdcnd_real_fn)\n",
    "\n",
    "all_real_cls.extend(alex_real_cls)\n",
    "all_real_fn.extend(alex_real_fn)\n",
    "all_sim=pd.DataFrame({0:all_real_fn,1:all_real_cls})\n",
    "all_sim.to_csv(\"data_real.csv\",index=False,header=None)"
   ]
  },
  {
   "cell_type": "code",
   "execution_count": null,
   "metadata": {},
   "outputs": [],
   "source": []
  }
 ],
 "metadata": {
  "kernelspec": {
   "display_name": "Python 3",
   "language": "python",
   "name": "python3"
  },
  "language_info": {
   "codemirror_mode": {
    "name": "ipython",
    "version": 3
   },
   "file_extension": ".py",
   "mimetype": "text/x-python",
   "name": "python",
   "nbconvert_exporter": "python",
   "pygments_lexer": "ipython3",
   "version": "3.6.3"
  }
 },
 "nbformat": 4,
 "nbformat_minor": 2
}
